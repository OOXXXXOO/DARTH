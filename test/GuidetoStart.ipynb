{
 "cells": [
  {
   "cell_type": "markdown",
   "metadata": {},
   "source": [
    "![](./../document/darth-01.png)\n",
    "# Guide to Start\n",
    "\n",
    "`process` is a full function dataset generate flow & it will download map production datasource like:"
   ]
  },
  {
   "cell_type": "code",
   "execution_count": 1,
   "metadata": {},
   "outputs": [],
   "source": [
    "import sys \n",
    "sys.path.append(\"/workspace/Darth/darth\")\n",
    "from process import Process"
   ]
  },
  {
   "cell_type": "code",
   "execution_count": 2,
   "metadata": {},
   "outputs": [],
   "source": [
    "vector=\"/workspace/osm-2017-07-03-v3.6.1-china_beijing.mbtiles\"\n",
    "cord=(116.5, 39.9, 116.6, 39.8, 14)\n",
    "class_key='building'\n",
    "datasource=\"Google China\"\n",
    "DataSetName=\"BuildingDataSet\""
   ]
  },
  {
   "cell_type": "markdown",
   "metadata": {},
   "source": [
    "`process` is a full function dataset generate flow & it will download map production datasource like:\n",
    "\n",
    "   * Google\n",
    "   * Google China,\n",
    "   * Google Maps,\n",
    "   * Google Satellite,\n",
    "   * Google Terrain,\n",
    "   * Google Terrain Hybrid,\n",
    "   * Google Satellite Hybrid\n",
    "   * Stamen Terrain\n",
    "   * Stamen Toner\n",
    "   * Stamen Toner Light\n",
    "   * Stamen Watercolor\n",
    "   * Wikimedia Map\n",
    "   * Wikimedia Hike Bike Map\n",
    "   * Esri Boundaries Places\n",
    "   * Esri Gray (dark)\n",
    "   * Esri Gray (light)\n",
    "   * Esri National Geographic\n",
    "   * Esri Ocean,\n",
    "   * Esri Satellite,\n",
    "   * Esri Standard,\n",
    "   * Esri Terrain,\n",
    "   * Esri Transportation,\n",
    "   * Esri Topo World,\n",
    "   * OpenStreetMap Standard,\n",
    "   * OpenStreetMap H.O.T.,\n",
    "   * OpenStreetMap Monochrome,\n",
    "   * OpenTopoMap,\n",
    "   * Strava All,\n",
    "   * Strava Run,\n",
    "   * Open Weather Map Temperature,\n",
    "   * Open Weather Map Clouds,\n",
    "   * Open Weather Map Wind Speed,\n",
    "   * CartoDb Dark Matter,\n",
    "   * CartoDb Positron,\n",
    "   * Bing VirtualEarth\n",
    "   \n",
    "for get target information as deeplearning traing , we need raster vector object that from vector datasource like:\n",
    "   * MBTiles \n",
    "   * Shapefile\n",
    "   * Pbf\n",
    "   * Geojson\n",
    "   \n",
    "whole work flow include 4 step of data process like:\n",
    "   \n",
    "    Step I:\n",
    "    Init Downlaoder,Bucket,Vector\n",
    "\n",
    "    Step II:\n",
    "    Init default vector layer\n",
    "    Init area , imagery level of mission\n",
    "\n",
    "    Step III:\n",
    "    Download\n",
    "    Merge(Optional)\n",
    "    Rasterize\n",
    "\n",
    "    Step IV:\n",
    "    Upload to Bucket\n",
    "\n",
    "    Last Step:\n",
    "    If don't save temp dataset ,clean the cache\n",
    "\n",
    "input args:\n",
    "\n",
    "* `vector`       : local path of vector object\n",
    "* `cord`         : WGS Standard Cord (min-lon,min-lat,max-lon,maxlat,zoom_level)\n",
    "* `class_key`    : The class you need generate\n",
    "* `Datasource`   : Map production datasource name\n",
    "* `Merge`        : Merge the tiles file to whole file or not\n",
    "* `Keep_local`   : The last step will delete local cache ,this option could choose to save it.\n",
    "* `upload`       : Use Network Strong Server or not (Just support [Huawei OBS server](https://developer.huaweicloud.com/sdk?OBS) now)\n",
    "* `thread`"
   ]
  },
  {
   "cell_type": "code",
   "execution_count": 3,
   "metadata": {},
   "outputs": [
    {
     "name": "stdout",
     "output_type": "stream",
     "text": [
      "# ---------------------------------------------------------------------------- #\n",
      "#                                     DARTH                                    #\n",
      "# ---------------------------------------------------------------------------- #\n",
      "# ===== Bucket para preview {}\n",
      "\n",
      "\n",
      "\n",
      "# ---------------------------------------------------------------------------- #\n",
      "# ---------------------------------- Step I ---------------------------------- #\n",
      "# ---------------------------------------------------------------------------- #\n",
      "# ---------------------------------------------------------------------------- #\n",
      "#                            MAP Production Toolkit                            #\n",
      "# ---------------------------------------------------------------------------- #\n",
      "# ---------------------- MAP Serverv Init Successful by ---------------------- #\n",
      "# ---------------------- Google China ---------------------------------------- #\n",
      "# ---------------------------------------------------------------------------- #\n",
      "#                                Vector Toolkit                                #\n",
      "# ---------------------------------------------------------------------------- #\n",
      "# ---------------------------------------------------------------------------- #\n",
      "#                            TIFF process Toolkit                              #\n",
      "# ---------------------------------------------------------------------------- #\n",
      "# -----Class TIF init without filename\n",
      "# -----Valid vector format : mbtiles\n",
      "\n",
      "# ----------------------------- Meta Information ----------------------------- #\n",
      "# -----ZOOM_LEVEL : 14                                                         #\n",
      "# -----attribution : <a href=\"http://www.openmaptiles.org/\" target=\"_blank\">&co#\n",
      "# -----center : 116.4025,39.92,14                                              #\n",
      "# -----description : Extract from https://openmaptiles.org                     #\n",
      "# -----maxzoom : 14                                                            #\n",
      "# -----minzoom : 0                                                             #\n",
      "# -----name : OpenMapTiles                                                     #\n",
      "# -----pixel_scale : 256                                                       #\n",
      "# -----mtime : 1499626373833                                                   #\n",
      "# -----format : pbf                                                            #\n",
      "# -----id : openmaptiles                                                       #\n",
      "# -----version : 3.6.1                                                         #\n",
      "# -----maskLevel : 5                                                           #\n",
      "# -----bounds : 115.686,39.414,117.119,40.426                                  #\n",
      "# -----planettime : 1499040000000                                              #\n",
      "# -----basename : china_beijing.mbtiles                                        #\n",
      "# ----------------------------- Meta Information ----------------------------- #\n",
      "\n",
      "# -----Description :  /workspace/osm-2017-07-03-v3.6.1-china_beijing.mbtiles\n",
      "# -----LayerCount: 15\n",
      "# -----Layer : 0  LayerName :  water \n",
      "# -----Layer : 1  LayerName :  waterway \n",
      "# -----Layer : 2  LayerName :  landcover \n",
      "# -----Layer : 3  LayerName :  landuse \n",
      "# -----Layer : 4  LayerName :  mountain_peak \n",
      "# -----Layer : 5  LayerName :  park \n",
      "# -----Layer : 6  LayerName :  boundary \n",
      "# -----Layer : 7  LayerName :  aeroway \n",
      "# -----Layer : 8  LayerName :  transportation \n",
      "# -----Layer : 9  LayerName :  building \n",
      "# -----Layer : 10  LayerName :  water_name \n",
      "# -----Layer : 11  LayerName :  transportation_name \n",
      "# -----Layer : 12  LayerName :  place \n",
      "# -----Layer : 13  LayerName :  housenumber \n",
      "# -----Layer : 14  LayerName :  poi \n",
      "# -----Extent: (12878106.611910647, 13037627.442217408, 4781148.214470335, 4928041.927030869)\n",
      "# -----Alread Load: /workspace/osm-2017-07-03-v3.6.1-china_beijing.mbtiles\n",
      "# -------------------------------- DEFINE DONE ------------------------------- #\n",
      "\n",
      "\n",
      "\n",
      "# ---------------------------------------------------------------------------- #\n",
      "# ---------------------------------- Step II --------------------------------- #\n",
      "# ---------------------------------------------------------------------------- #\n",
      "# -----Set Default Layer | building | :  <osgeo.ogr.Layer; proxy of <Swig Object of type 'OGRLayerShadow *' at 0x7ff1df648e70> >\n",
      "# -----WGS BoundingBox: (116.4930128805835, 39.9085118736554, 116.60310895291508, 39.790620416540385)\n",
      "# -----Mercator BoudingBox: (12967942.873035664, 4852656.366560855, 12980198.711744247, 4835562.295251646)\n",
      "# -----Total tiles number：5 X 7\n"
     ]
    },
    {
     "name": "stderr",
     "output_type": "stream",
     "text": [
      "  0%|          | 0/35 [00:00<?, ?it/s]"
     ]
    },
    {
     "name": "stdout",
     "output_type": "stream",
     "text": [
      "# -----Url Queue size: 35\n",
      "# -----Set filter Rect: (12967942.873035664, 4852656.366560855, 12980198.711744247, 4835562.295251646)\n",
      "\n",
      "\n",
      "\n",
      "# ---------------------------------------------------------------------------- #\n",
      "# --------------------------------- Step III --------------------------------- #\n",
      "# ---------------------------------------------------------------------------- #\n",
      "# ===== imagery dir : DataSet/images/\n",
      "# ===== targets dir : DataSet/targets/\n",
      "# ===== Start Downloading.....\n"
     ]
    },
    {
     "name": "stderr",
     "output_type": "stream",
     "text": [
      " 94%|█████████▍| 33/35 [00:03<00:00,  9.25it/s]\n",
      "100%|██████████| 35/35 [00:00<00:00, 80350.65it/s]\n",
      "100%|██████████| 35/35 [00:03<00:00, 11.13it/s]\n",
      "  3%|▎         | 1/35 [00:00<00:03,  9.10it/s]"
     ]
    },
    {
     "name": "stdout",
     "output_type": "stream",
     "text": [
      "# ===== Decode Downloading...\n",
      "# ------------------------------- Download Done ------------------------------ #\n",
      "\n",
      "# ===== Save description done DataSet/Google China-Sun Jun 28 09:51:04 2020-(116.5, 39.9, 116.6, 39.8)-14.json\n",
      "# ===== Start Generate.....\n"
     ]
    },
    {
     "name": "stderr",
     "output_type": "stream",
     "text": [
      "100%|██████████| 35/35 [00:03<00:00, 10.15it/s]"
     ]
    },
    {
     "name": "stdout",
     "output_type": "stream",
     "text": [
      "# ---------------------------------------------------------------------------- #\n",
      "#                             DataSet process done                             #\n",
      "# ---------------------------------------------------------------------------- #\n"
     ]
    },
    {
     "name": "stderr",
     "output_type": "stream",
     "text": [
      "\n"
     ]
    }
   ],
   "source": [
    "Process(\n",
    "    vector,\n",
    "    cord,\n",
    "    class_key\n",
    ")"
   ]
  },
  {
   "cell_type": "markdown",
   "metadata": {},
   "source": [
    "****\n",
    "Normally , the local storage dataset is low reusability method , so this workflow support for Internet Data Storge like :\n",
    "- [x] [Huawei OBS server](https://developer.huaweicloud.com/sdk?OBS)\n",
    "\n",
    "In additional ,the tool will support for:\n",
    "- [ ] AMAZON S3\n",
    "- [ ] MiscroSoft Azure"
   ]
  },
  {
   "cell_type": "markdown",
   "metadata": {},
   "source": [
    "For use OBS server you must register or buy Bucket & Install OBS python package:\n",
    "****\n",
    "\n",
    "```bash\n",
    "cd obs-src/\n",
    "python setup.py instal\n",
    "\n",
    "\n",
    "\n",
    "#out:\n",
    "Processing dependencies for esdk-obs-python==3.20.1\n",
    "Finished processing dependencies for esdk-obs-python==3.20.1\n",
    "```\n",
    "\n",
    "Then we could open upload option:"
   ]
  },
  {
   "cell_type": "code",
   "execution_count": 4,
   "metadata": {},
   "outputs": [],
   "source": [
    "ak='XXXXXXXXXXXXXX' # your access_key_id\n",
    "sk='XXXXXXXXXXXXXX' # your secret_access_key\n",
    "server='http://obs.cn-north-4.myhuaweicloud.com'# your server\n",
    "bucketname=\"XXXXXXX\"# your bucket name"
   ]
  },
  {
   "cell_type": "code",
   "execution_count": 5,
   "metadata": {},
   "outputs": [
    {
     "name": "stdout",
     "output_type": "stream",
     "text": [
      "# ---------------------------------------------------------------------------- #\n",
      "#                                     DARTH                                    #\n",
      "# ---------------------------------------------------------------------------- #\n",
      "# ===== Bucket para preview {'ak': 'ISSSVUVTXQWXSCPKR23N', 'sk': 'IYZbHMxJss3vXsoi9pqArIySf205lPcoISmm6ReJ', 'server': 'http://obs.cn-north-4.myhuaweicloud.com', 'bn': 'obs-tq-dataset'}\n",
      "\n",
      "\n",
      "\n",
      "# ---------------------------------------------------------------------------- #\n",
      "# ---------------------------------- Step I ---------------------------------- #\n",
      "# ---------------------------------------------------------------------------- #\n",
      "# ---------------------------------------------------------------------------- #\n",
      "#                            MAP Production Toolkit                            #\n",
      "# ---------------------------------------------------------------------------- #\n",
      "# ---------------------- MAP Serverv Init Successful by ---------------------- #\n",
      "# ---------------------- Google China ---------------------------------------- #\n",
      "# ---------------------------------------------------------------------------- #\n",
      "#                                Bucket ToolKit                                #\n",
      "# ---------------------------------------------------------------------------- #\n",
      "# ----access key (AK) :  ISSSVUVTXQWXSCPKR23N\n",
      "# ----secret key (SK):  IYZbHMxJss3vXsoi9pqArIySf205lPcoISmm6ReJ\n",
      "# ----server :  http://obs.cn-north-4.myhuaweicloud.com\n",
      "# ----bucket name :  obs-tq-dataset\n",
      "# ----root :  /\n",
      "# ---------------------------------------------------------------------------- #\n",
      "# ---------------------------------------------------------------------------- #\n",
      "#                                Vector Toolkit                                #\n",
      "# ---------------------------------------------------------------------------- #\n",
      "# ---------------------------------------------------------------------------- #\n",
      "#                            TIFF process Toolkit                              #\n",
      "# ---------------------------------------------------------------------------- #\n",
      "# -----Class TIF init without filename\n",
      "# -----Valid vector format : mbtiles\n",
      "\n",
      "# ----------------------------- Meta Information ----------------------------- #\n",
      "# -----ZOOM_LEVEL : 14                                                         #\n",
      "# -----attribution : <a href=\"http://www.openmaptiles.org/\" target=\"_blank\">&co#\n",
      "# -----center : 116.4025,39.92,14                                              #\n",
      "# -----description : Extract from https://openmaptiles.org                     #\n",
      "# -----maxzoom : 14                                                            #\n",
      "# -----minzoom : 0                                                             #\n",
      "# -----name : OpenMapTiles                                                     #\n",
      "# -----pixel_scale : 256                                                       #\n",
      "# -----mtime : 1499626373833                                                   #\n",
      "# -----format : pbf                                                            #\n",
      "# -----id : openmaptiles                                                       #\n",
      "# -----version : 3.6.1                                                         #\n",
      "# -----maskLevel : 5                                                           #\n",
      "# -----bounds : 115.686,39.414,117.119,40.426                                  #\n",
      "# -----planettime : 1499040000000                                              #\n",
      "# -----basename : china_beijing.mbtiles                                        #\n",
      "# ----------------------------- Meta Information ----------------------------- #\n",
      "\n",
      "# -----Description :  /workspace/osm-2017-07-03-v3.6.1-china_beijing.mbtiles\n",
      "# -----LayerCount: 15\n",
      "# -----Layer : 0  LayerName :  water \n",
      "# -----Layer : 1  LayerName :  waterway \n",
      "# -----Layer : 2  LayerName :  landcover \n",
      "# -----Layer : 3  LayerName :  landuse \n",
      "# -----Layer : 4  LayerName :  mountain_peak \n",
      "# -----Layer : 5  LayerName :  park \n",
      "# -----Layer : 6  LayerName :  boundary \n",
      "# -----Layer : 7  LayerName :  aeroway \n",
      "# -----Layer : 8  LayerName :  transportation \n",
      "# -----Layer : 9  LayerName :  building \n",
      "# -----Layer : 10  LayerName :  water_name \n",
      "# -----Layer : 11  LayerName :  transportation_name \n",
      "# -----Layer : 12  LayerName :  place \n",
      "# -----Layer : 13  LayerName :  housenumber \n",
      "# -----Layer : 14  LayerName :  poi \n",
      "# -----Extent: (12878106.611910647, 13037627.442217408, 4781148.214470335, 4928041.927030869)\n",
      "# -----Alread Load: /workspace/osm-2017-07-03-v3.6.1-china_beijing.mbtiles\n",
      "# -------------------------------- DEFINE DONE ------------------------------- #\n",
      "\n",
      "\n",
      "\n",
      "# ---------------------------------------------------------------------------- #\n",
      "# ---------------------------------- Step II --------------------------------- #\n",
      "# ---------------------------------------------------------------------------- #\n",
      "# -----Set Default Layer | building | :  <osgeo.ogr.Layer; proxy of <Swig Object of type 'OGRLayerShadow *' at 0x7ff1dd55ccc0> >\n",
      "# -----WGS BoundingBox: (116.4930128805835, 39.9085118736554, 116.60310895291508, 39.790620416540385)\n",
      "# -----Mercator BoudingBox: (12967942.873035664, 4852656.366560855, 12980198.711744247, 4835562.295251646)\n",
      "# -----Total tiles number：5 X 7\n",
      "# -----Url Queue size: 35\n",
      "# -----Set filter Rect: (12967942.873035664, 4852656.366560855, 12980198.711744247, 4835562.295251646)\n",
      "\n",
      "\n",
      "\n",
      "# ---------------------------------------------------------------------------- #\n",
      "# --------------------------------- Step III --------------------------------- #\n",
      "# ---------------------------------------------------------------------------- #\n",
      "# ===== imagery dir : DataSet/images/\n",
      "# ===== targets dir : DataSet/targets/\n",
      "Getting bucket metadata\n",
      "\n",
      "storageClass: STANDARD\n",
      "accessContorlAllowOrigin: None\n",
      "accessContorlMaxAge: None\n",
      "accessContorlExposeHeaders: None\n",
      "accessContorlAllowMethods: None\n",
      "accessContorlAllowHeaders: None\n",
      "Deleting bucket CORS\n",
      "\n",
      "status204\n",
      "# ===== Bucket imagery root  : DataSets/DataSet/images/\n",
      "# ===== Bucket Targets root  : DataSets/DataSet/targets/\n",
      "# ===== Bucket Description root : DataSets/DataSet/\n",
      "# ===== Base Folder DataSets\n",
      "# ===== list (DataSets): \n"
     ]
    },
    {
     "name": "stderr",
     "output_type": "stream",
     "text": [
      "  0%|          | 0/35 [00:00<?, ?it/s]"
     ]
    },
    {
     "name": "stdout",
     "output_type": "stream",
     "text": [
      "# ===== object count :  1000\n",
      "   |--- : DataSets/ etag[\"d41d8cd98f00b204e9800998ecf8427e\"]\n",
      "   |--- : DataSets/Building_Beijing_14/.meta etag[\"f802f58e7d89c2cad4f9d42d54a805e7\"]\n",
      "   |--- : DataSets/Building_Beijing_14/Google China-Wed Jun 10 17:44:24 2020-(116.3, 39.9, 116.6, 39.7)-14.json etag[\"f5d4d06dde3c263cc7c08dd203e9ea86\"]\n",
      "   |--- : DataSets/Building_Beijing_14/images/Google China-13484-6208-14.tif etag[\"62724a9ee3e6a089e4a8974e0aa2b115\"]\n",
      "   |--- : DataSets/Building_Beijing_14/images/Google China-13484-6209-14.tif etag[\"1712a0eee45ef4aa0460b55918cbbd6b\"]\n",
      "   |--- : DataSets/Building_Beijing_14/images/Google China-13484-6210-14.tif etag[\"4c3023113719fa50192bd379de31d843\"]\n",
      "   |--- : DataSets/Building_Beijing_14/images/Google China-13484-6211-14.tif etag[\"59cb243b1932909164dafdeeb87eb29d\"]\n",
      "   |--- : DataSets/Building_Beijing_14/images/Google China-13484-6212-14.tif etag[\"0e239caf1796f5b71245c50de3d2b535\"]\n",
      "   |--- : DataSets/Building_Beijing_14/images/Google China-13484-6213-14.tif etag[\"df9e7aeb65eb9c559e52f7b7565a0c96\"]\n",
      "   |--- : DataSets/Building_Beijing_14/images/Google China-13484-6214-14.tif etag[\"c4620def4d0157802b77acf59e0a4061\"]\n",
      "# ===== Start Downloading.....\n"
     ]
    },
    {
     "name": "stderr",
     "output_type": "stream",
     "text": [
      "100%|██████████| 35/35 [00:01<00:00, 22.26it/s]\n",
      "100%|██████████| 35/35 [00:00<00:00, 66818.68it/s]\n",
      "100%|██████████| 35/35 [00:01<00:00, 20.14it/s]\n",
      "  3%|▎         | 1/35 [00:00<00:03,  9.87it/s]"
     ]
    },
    {
     "name": "stdout",
     "output_type": "stream",
     "text": [
      "# ===== Decode Downloading...\n",
      "# ------------------------------- Download Done ------------------------------ #\n",
      "\n",
      "# ===== Save description done DataSet/Google China-Sun Jun 28 10:07:51 2020-(116.5, 39.9, 116.6, 39.8)-14.json\n",
      "# ===== Start Generate.....\n"
     ]
    },
    {
     "name": "stderr",
     "output_type": "stream",
     "text": [
      "100%|██████████| 35/35 [00:03<00:00, 10.22it/s]\n",
      " 11%|█▏        | 4/35 [00:00<00:00, 39.99it/s]"
     ]
    },
    {
     "name": "stdout",
     "output_type": "stream",
     "text": [
      "\n",
      "\n",
      "\n",
      "# ---------------------------------------------------------------------------- #\n",
      "# ---------------------------------- Step IV --------------------------------- #\n",
      "# ---------------------------------------------------------------------------- #\n",
      "# ===== Upload dataset meta DataSets/DataSet/.meta\n",
      "# ===== Upload dataset description DataSets/DataSet/Google China-Sun Jun 28 10:07:51 2020-(116.5, 39.9, 116.6, 39.8)-14.json\n",
      "# ===== upload imagry to bucket.....\n"
     ]
    },
    {
     "name": "stderr",
     "output_type": "stream",
     "text": [
      "100%|██████████| 35/35 [00:01<00:00, 33.26it/s]\n",
      " 11%|█▏        | 4/35 [00:00<00:00, 39.17it/s]"
     ]
    },
    {
     "name": "stdout",
     "output_type": "stream",
     "text": [
      "# ===== upload target to bucket.....\n"
     ]
    },
    {
     "name": "stderr",
     "output_type": "stream",
     "text": [
      "100%|██████████| 35/35 [00:00<00:00, 41.14it/s]\n"
     ]
    },
    {
     "name": "stdout",
     "output_type": "stream",
     "text": [
      "# ===== uploaded bucket:\n",
      "# ===== list (DataSets): \n",
      "# ===== object count :  1000\n",
      "   |--- : DataSets/ etag[\"d41d8cd98f00b204e9800998ecf8427e\"]\n",
      "   |--- : DataSets/Building_Beijing_14/.meta etag[\"f802f58e7d89c2cad4f9d42d54a805e7\"]\n",
      "   |--- : DataSets/Building_Beijing_14/Google China-Wed Jun 10 17:44:24 2020-(116.3, 39.9, 116.6, 39.7)-14.json etag[\"f5d4d06dde3c263cc7c08dd203e9ea86\"]\n",
      "   |--- : DataSets/Building_Beijing_14/images/Google China-13484-6208-14.tif etag[\"62724a9ee3e6a089e4a8974e0aa2b115\"]\n",
      "   |--- : DataSets/Building_Beijing_14/images/Google China-13484-6209-14.tif etag[\"1712a0eee45ef4aa0460b55918cbbd6b\"]\n",
      "   |--- : DataSets/Building_Beijing_14/images/Google China-13484-6210-14.tif etag[\"4c3023113719fa50192bd379de31d843\"]\n",
      "   |--- : DataSets/Building_Beijing_14/images/Google China-13484-6211-14.tif etag[\"59cb243b1932909164dafdeeb87eb29d\"]\n",
      "   |--- : DataSets/Building_Beijing_14/images/Google China-13484-6212-14.tif etag[\"0e239caf1796f5b71245c50de3d2b535\"]\n",
      "   |--- : DataSets/Building_Beijing_14/images/Google China-13484-6213-14.tif etag[\"df9e7aeb65eb9c559e52f7b7565a0c96\"]\n",
      "   |--- : DataSets/Building_Beijing_14/images/Google China-13484-6214-14.tif etag[\"c4620def4d0157802b77acf59e0a4061\"]\n",
      "# ---------------------------------------------------------------------------- #\n",
      "#                             DataSet process done                             #\n",
      "# ---------------------------------------------------------------------------- #\n"
     ]
    }
   ],
   "source": [
    "Process(\n",
    "    vector,\n",
    "    cord,\n",
    "    class_key,\n",
    "    Upload=True,\n",
    "    ak=ak,\n",
    "    sk=sk,\n",
    "    server=server,\n",
    "    bn=bucketname\n",
    ")"
   ]
  },
  {
   "cell_type": "markdown",
   "metadata": {},
   "source": [
    "In this part , all the data already upload your OBS storage server .\n",
    "In addition, you not only could choose keep local dataset or not, but also read dataset by index json file:\n",
    "```json\n",
    "\n",
    "{\n",
    "    \"time\": \"Sun Jun 28 17:30:36 2020\",\n",
    "    \"left\": 116.5,\n",
    "    \"top\": 39.9,\n",
    "    \"right\": 116.6,\n",
    "    \"bottom\": 39.8,\n",
    "    \"zoom\": 14,\n",
    "    \"server\": \"Google China\",\n",
    "    \"data\": [\n",
    "        {\n",
    "            \"server\": \"Google China\",\n",
    "            \"info\": [\n",
    "                13494,\n",
    "                6208,\n",
    "                14\n",
    "            ],\n",
    "            \"url\": \"http://mt2.google.cn/vt/lyrs=s&hl=zh-CN&gl=CN&src=app&x=13494&y=6208&z=14\",\n",
    "            \"path\": \"DataSet/images/Google China-13494-6208-14.tif\"\n",
    "        },\n",
    "        {\n",
    "            \"server\": \"Google China\",\n",
    "            \"info\": [\n",
    "                13496,\n",
    "                6208,\n",
    "                14\n",
    "            ],\n",
    "            \"url\": \"http://mt2.google.cn/vt/lyrs=s&hl=zh-CN&gl=CN&src=app&x=13496&y=6208&z=14\",\n",
    "            \"path\": \"DataSet/images/Google China-13496-6208-14.tif\"\n",
    "        },\n",
    "\n",
    ".......\n",
    "\n",
    "```"
   ]
  },
  {
   "cell_type": "markdown",
   "metadata": {},
   "source": [
    "\n",
    "Copyright 2020 Tom Winshare\n",
    "\n",
    "Licensed under the Apache License, Version 2.0 (the \"License\");\n",
    "you may not use this file except in compliance with the License.\n",
    "You may obtain a copy of the License at\n",
    "\n",
    "    http://www.apache.org/licenses/LICENSE-2.0\n",
    "\n",
    "Unless required by applicable law or agreed to in writing, software\n",
    "distributed under the License is distributed on an \"AS IS\" BASIS,\n",
    "WITHOUT WARRANTIES OR CONDITIONS OF ANY KIND, either express or implied.\n",
    "See the License for the specific language governing permissions and\n",
    "limitations under the License.\n",
    "\n",
    "![](./../document/darth-03.png)"
   ]
  }
 ],
 "metadata": {
  "kernelspec": {
   "display_name": "Python 3",
   "language": "python",
   "name": "python3"
  },
  "language_info": {
   "codemirror_mode": {
    "name": "ipython",
    "version": 3
   },
   "file_extension": ".py",
   "mimetype": "text/x-python",
   "name": "python",
   "nbconvert_exporter": "python",
   "pygments_lexer": "ipython3",
   "version": "3.7.0"
  }
 },
 "nbformat": 4,
 "nbformat_minor": 4
}